{
 "cells": [
  {
   "cell_type": "markdown",
   "metadata": {},
   "source": [
    "## Helper Functions"
   ]
  },
  {
   "cell_type": "code",
   "execution_count": 2,
   "metadata": {},
   "outputs": [
    {
     "data": {
      "text/plain": [
       "'(!q|!r|t)&(!t|r)'"
      ]
     },
     "execution_count": 2,
     "metadata": {},
     "output_type": "execute_result"
    }
   ],
   "source": [
    "def remove_extra(x):\n",
    "    l=x.split('&')\n",
    "    for i in range(len(l)):\n",
    "        res=\"\"\n",
    "        for j in range(len(l[i])):\n",
    "            if l[i][j] != '(' and l[i][j] != ')':\n",
    "                res+=l[i][j]\n",
    "        l[i]='('+res+')'\n",
    "    x='&'.join(l)\n",
    "    return x\n",
    "\n",
    "s='!q|((!r|t)&(!t|r))'\n",
    "remove_extra(s)"
   ]
  },
  {
   "cell_type": "code",
   "execution_count": 3,
   "metadata": {},
   "outputs": [
    {
     "data": {
      "text/plain": [
       "'r'"
      ]
     },
     "execution_count": 3,
     "metadata": {},
     "output_type": "execute_result"
    }
   ],
   "source": [
    "def simplify(x):\n",
    "    if x==None:\n",
    "        return x\n",
    "    l=x.split('|')\n",
    "    l1=[]\n",
    "    l2=[]\n",
    "    for i in l:\n",
    "        if len(i) == 1:\n",
    "            if '!'+i in l:\n",
    "                l2.append('!'+i)\n",
    "                continue\n",
    "        else:\n",
    "            if i[1] in l:\n",
    "                l2.append(i[1])\n",
    "                continue\n",
    "        if i in l1 or i in l2:\n",
    "            continue\n",
    "        else:\n",
    "            l1.append(i)\n",
    "    x='|'.join(l1)\n",
    "    return x\n",
    "s1=\"!q|!q|!q|r|q\"\n",
    "simplify(s1)"
   ]
  },
  {
   "cell_type": "markdown",
   "metadata": {},
   "source": [
    "## Part 0"
   ]
  },
  {
   "cell_type": "markdown",
   "metadata": {},
   "source": [
    "# Functions for converting into CNF"
   ]
  },
  {
   "cell_type": "code",
   "execution_count": 4,
   "metadata": {},
   "outputs": [],
   "source": [
    "def remove_implications(x):\n",
    "    while '>' in x:\n",
    "        pos = x.find('>')\n",
    "        left = x[:pos]\n",
    "        right = x[pos+1:]\n",
    "        rem_left=\"\"\n",
    "        if left[-1] == ')':\n",
    "            count=0\n",
    "            for i in range(len(left)-1,-1,-1):\n",
    "                if left[i] == ')':\n",
    "                    count+=1\n",
    "                elif left[i] == '(':\n",
    "                    count-=1\n",
    "                if count == 0:\n",
    "                    rem_left=left[:i]\n",
    "                    left=left[i:]\n",
    "                    break\n",
    "        else:\n",
    "            rem_left=left[:-1]\n",
    "            left=left[-1]            \n",
    "        x= f\"{rem_left}!{left}|{right}\"\n",
    "    return x"
   ]
  },
  {
   "cell_type": "code",
   "execution_count": 5,
   "metadata": {},
   "outputs": [
    {
     "data": {
      "text/plain": [
       "'!(!a|b)|c'"
      ]
     },
     "execution_count": 5,
     "metadata": {},
     "output_type": "execute_result"
    }
   ],
   "source": [
    "s1=\"d|((a&c)>b)\"\n",
    "# s2=\"a>b\"\n",
    "s3=\"(a>b)>c\"\n",
    "remove_implications(s1)\n",
    "# remove_implications(s2)\n",
    "remove_implications(s3)"
   ]
  },
  {
   "cell_type": "code",
   "execution_count": 6,
   "metadata": {},
   "outputs": [],
   "source": [
    "def remove_iff(x):\n",
    "    while '=' in x:\n",
    "        pos = x.find('=')\n",
    "        left = x[:pos]\n",
    "        right = x[pos+1:]\n",
    "        rem_left=\"\"\n",
    "        rem_right=\"\"\n",
    "        if left[-1] == ')':\n",
    "            count=0\n",
    "            for i in range(len(left)-1,-1,-1):\n",
    "                if left[i] == ')':\n",
    "                    count+=1\n",
    "                elif left[i] == '(':\n",
    "                    count-=1\n",
    "                if count == 0:\n",
    "                    rem_left=left[:i]\n",
    "                    left=left[i:]\n",
    "                    break\n",
    "        else:\n",
    "            rem_left=left[:-1]\n",
    "            left=left[-1]\n",
    "        if right[0] == '(':\n",
    "            count=0\n",
    "            for i in range(len(right)):\n",
    "                if right[i] == '(':\n",
    "                    count+=1\n",
    "                elif right[i] == ')':\n",
    "                    count-=1\n",
    "                if count == 0:\n",
    "                    rem_right=right[i+1:]\n",
    "                    right=right[:i+1]\n",
    "                    break\n",
    "        else:\n",
    "            rem_right=right[1:]\n",
    "            right=right[0]\n",
    "        # print('**************')\n",
    "        # print(x)\n",
    "        # print(rem_left)\n",
    "        # print(left)\n",
    "        # print(right)\n",
    "        # print(rem_right)\n",
    "        x= f\"{rem_left}(!{left}|{right})&(!{right}|{left}){rem_right}\"\n",
    "        # print(x)\n",
    "    return x"
   ]
  },
  {
   "cell_type": "code",
   "execution_count": 7,
   "metadata": {},
   "outputs": [
    {
     "data": {
      "text/plain": [
       "'((!R|(!((!Q|D)&(!D|Q))|((!P|T)&(!T|P))))&(!(!((!Q|D)&(!D|Q))|((!P|T)&(!T|P)))|R))'"
      ]
     },
     "execution_count": 7,
     "metadata": {},
     "output_type": "execute_result"
    }
   ],
   "source": [
    "s='(R=(!(Q=D)|(P=T)))'\n",
    "remove_iff(s)"
   ]
  },
  {
   "cell_type": "code",
   "execution_count": 8,
   "metadata": {},
   "outputs": [],
   "source": [
    "def demorgan(x):\n",
    "    for pos in range(len(x)):\n",
    "        if x[pos] == '!':\n",
    "            left = x[:pos]\n",
    "            right = x[pos+1:]\n",
    "            rem_right=\"\"\n",
    "            if right[0] == '(':\n",
    "                count=0\n",
    "                for i in range(len(right)):\n",
    "                    if right[i] == '(':\n",
    "                        count+=1\n",
    "                    elif right[i] == ')':\n",
    "                        count-=1\n",
    "                    if count == 0:\n",
    "                        rem_right=right[i+1:]\n",
    "                        right=right[:i+1]\n",
    "                        break\n",
    "                # print(right)\n",
    "                count=0\n",
    "                for i in range(1,len(right)):\n",
    "                    if count == 0:\n",
    "                        if right[i] == '|':\n",
    "                            right = '(!'+right[1:i] + '&' + '!'+right[i+1:]\n",
    "                            break\n",
    "                        elif right[i] == \"&\":\n",
    "                            right = '(!'+right[1:i] + '|' + '!'+right[i+1:]\n",
    "                            break\n",
    "                    if right[i] == '(':\n",
    "                        count+=1\n",
    "                    elif right[i] == ')':\n",
    "                        count-=1\n",
    "                x= f\"{left}{right}{rem_right}\"\n",
    "                # print(x)\n",
    "            else:\n",
    "                continue\n",
    "        else:\n",
    "            continue\n",
    "    return x"
   ]
  },
  {
   "cell_type": "code",
   "execution_count": 9,
   "metadata": {},
   "outputs": [
    {
     "name": "stdout",
     "output_type": "stream",
     "text": [
      "a\n"
     ]
    }
   ],
   "source": [
    "def remove_double_neg(x):\n",
    "    ret=''\n",
    "    i=0\n",
    "    count=0\n",
    "    while(i<len(x)):\n",
    "        if x[i] == '!':\n",
    "            count+=1\n",
    "            i+=1\n",
    "            continue\n",
    "        else:\n",
    "            if count%2 == 0:\n",
    "                ret+=x[i]\n",
    "            else:\n",
    "                ret+='!'+x[i]\n",
    "            count=0\n",
    "            i+=1\n",
    "\n",
    "    return ret\n",
    "s='!!a'\n",
    "print(remove_double_neg(s))"
   ]
  },
  {
   "cell_type": "code",
   "execution_count": 10,
   "metadata": {},
   "outputs": [
    {
     "data": {
      "text/plain": [
       "'a|(!c&(!a|!d))'"
      ]
     },
     "execution_count": 10,
     "metadata": {},
     "output_type": "execute_result"
    }
   ],
   "source": [
    "s1=\"!(a|b)\"\n",
    "s2=\"!(a&b)\"\n",
    "s3=\"a|!(c|(a&d))\"\n",
    "demorgan(s1)\n",
    "demorgan(s2)\n",
    "demorgan(s3)"
   ]
  },
  {
   "cell_type": "code",
   "execution_count": 11,
   "metadata": {},
   "outputs": [
    {
     "name": "stdout",
     "output_type": "stream",
     "text": [
      "((!R|(((Q&!D)|(D&!Q))|((!P|T)&(!T|P))))&((((!Q|D)&(!D|Q))&((P&!T)|(T&!P)))|R))\n"
     ]
    }
   ],
   "source": [
    "x='((!R|(!((!Q|D)&(!D|Q))|((!P|T)&(!T|P))))&(!(!((!Q|D)&(!D|Q))|((!P|T)&(!T|P)))|R))'\n",
    "x1=demorgan(x)\n",
    "while x1!=x:\n",
    "    x=x1\n",
    "    x1=demorgan(x)\n",
    "    x1=remove_double_neg(x1)\n",
    "print(x1)"
   ]
  },
  {
   "cell_type": "code",
   "execution_count": 12,
   "metadata": {},
   "outputs": [
    {
     "data": {
      "text/plain": [
       "'(!q|!r|t)&(!q|!t|r)'"
      ]
     },
     "execution_count": 12,
     "metadata": {},
     "output_type": "execute_result"
    }
   ],
   "source": [
    "def distribute(x):\n",
    "    while(True):\n",
    "        count=0\n",
    "        for i in range(len(x)-1):\n",
    "            if x[i]=='(':\n",
    "                count+=1\n",
    "            elif x[i]==')':\n",
    "                count-=1\n",
    "            if count==0:\n",
    "                break\n",
    "        if count==1:\n",
    "            x=x[1:]\n",
    "            x=x[:-1]\n",
    "            # print(x)\n",
    "        else:\n",
    "            # print(x)\n",
    "            break\n",
    "    count=0\n",
    "    # print('x',x)\n",
    "    for ind in range(len(x)):\n",
    "        # print(count,x[ind])\n",
    "        if count==0:\n",
    "            if x[ind]=='&': \n",
    "                # print('l',x[:ind])\n",
    "                # print('r',x[ind+1:])\n",
    "                l=distribute(x[:ind])\n",
    "                r=distribute(x[ind+1:])\n",
    "                res='('+l+')&('+r+')'\n",
    "                res=remove_extra(x)\n",
    "                return res\n",
    "            elif x[ind]=='|':\n",
    "                # print('l',x[:ind])\n",
    "                # print('r',x[ind+1:])\n",
    "                l=distribute(x[:ind])\n",
    "                r=distribute(x[ind+1:])\n",
    "                list_l=l.split('&')\n",
    "                list_r=r.split('&')\n",
    "                res=''\n",
    "                for i in list_l:\n",
    "                    for j in list_r:\n",
    "                        res=res+'('+i+'|'+j+')'+'&'\n",
    "                res=res[:-1]\n",
    "                res=remove_extra(res)\n",
    "                return res\n",
    "        if x[ind]=='(':\n",
    "            # print(count)\n",
    "            count+=1\n",
    "        elif x[ind]==')':\n",
    "            # print(count)\n",
    "            count-=1\n",
    "    x=remove_extra(x)\n",
    "    return x\n",
    "\n",
    "s1='!q|((!r|t)&(!t|r))'\n",
    "distribute(s1)"
   ]
  },
  {
   "cell_type": "code",
   "execution_count": 13,
   "metadata": {},
   "outputs": [
    {
     "data": {
      "text/plain": [
       "'(p|q)&(p|!r|t)'"
      ]
     },
     "execution_count": 13,
     "metadata": {},
     "output_type": "execute_result"
    }
   ],
   "source": [
    "s1='p|(q&(!r|t))'\n",
    "distribute(s1)"
   ]
  },
  {
   "cell_type": "code",
   "execution_count": 14,
   "metadata": {},
   "outputs": [
    {
     "data": {
      "text/plain": [
       "'(a|b)&(c|d)'"
      ]
     },
     "execution_count": 14,
     "metadata": {},
     "output_type": "execute_result"
    }
   ],
   "source": [
    "s2='(a|b)&(c|d)'\n",
    "distribute(s2)"
   ]
  },
  {
   "cell_type": "code",
   "execution_count": 15,
   "metadata": {},
   "outputs": [
    {
     "data": {
      "text/plain": [
       "'(p|!a|b)&(p|!b|a)&(p|c)&(p|!d|d)&(p|!c)'"
      ]
     },
     "execution_count": 15,
     "metadata": {},
     "output_type": "execute_result"
    }
   ],
   "source": [
    "s3='p|(((!a|b)&(!b|a))&((c&!d)|(d&!c)))'\n",
    "distribute(s3)"
   ]
  },
  {
   "cell_type": "code",
   "execution_count": 16,
   "metadata": {},
   "outputs": [
    {
     "name": "stdout",
     "output_type": "stream",
     "text": [
      "(!a|b)&(!b|a)&(c)&(!d|d)&(!c)\n"
     ]
    }
   ],
   "source": [
    "def cnf(x):\n",
    "    # print(x)\n",
    "    x=remove_double_neg(x)\n",
    "    x=remove_implications(x)\n",
    "    # print('remove imp',x)\n",
    "    x=remove_iff(x)\n",
    "    x=remove_double_neg(x)\n",
    "    # print('remove iff',x)\n",
    "    x1=demorgan(x)\n",
    "    while x1!=x:\n",
    "        x=x1\n",
    "        x1=demorgan(x)\n",
    "        x1=remove_double_neg(x1)\n",
    "    x=remove_double_neg(x)\n",
    "    # print('demorgan',x)\n",
    "    x=distribute(x)\n",
    "    x=remove_double_neg(x)\n",
    "    # print('distribute',x)\n",
    "    return x\n",
    "\n",
    "s=\"!((a=b)>(c=d))\"\n",
    "print(cnf(s))"
   ]
  },
  {
   "cell_type": "code",
   "execution_count": 17,
   "metadata": {},
   "outputs": [],
   "source": [
    "def make_kb(kb):\n",
    "    kb1=[]\n",
    "    for x in kb:\n",
    "        s=cnf(x)\n",
    "        l=s.split('&')\n",
    "        for i in l:\n",
    "            kb1.append(i[1:-1])\n",
    "    # print(kb1)\n",
    "    return kb1\n",
    "            "
   ]
  },
  {
   "cell_type": "code",
   "execution_count": 18,
   "metadata": {},
   "outputs": [
    {
     "data": {
      "text/plain": [
       "['!a|b']"
      ]
     },
     "execution_count": 18,
     "metadata": {},
     "output_type": "execute_result"
    }
   ],
   "source": [
    "s=['a>b']\n",
    "make_kb(s)"
   ]
  },
  {
   "cell_type": "markdown",
   "metadata": {},
   "source": [
    "# Function for Resolution"
   ]
  },
  {
   "cell_type": "code",
   "execution_count": 19,
   "metadata": {},
   "outputs": [
    {
     "data": {
      "text/plain": [
       "'b|c'"
      ]
     },
     "execution_count": 19,
     "metadata": {},
     "output_type": "execute_result"
    }
   ],
   "source": [
    "def resolve(x,y):\n",
    "    lx=x.split('|')\n",
    "    ly=y.split('|')\n",
    "    n=len(lx)\n",
    "    for i in range(len(lx)):\n",
    "        for j in range(len(ly)):\n",
    "            if lx[i] == '!'+ly[j] or '!'+lx[i] == ly[j]:\n",
    "                lx[i]=''\n",
    "                ly[j]=''\n",
    "    lx=list(filter(None,lx))\n",
    "    ly=list(filter(None,ly))\n",
    "    if len(lx)==0 and len(ly)==0:\n",
    "        return \"Contradiction\"\n",
    "    elif len(lx)==n:\n",
    "        return None\n",
    "    res=''\n",
    "    for i in lx:\n",
    "        res+=i+'|'\n",
    "    for i in ly:\n",
    "        res+=i+'|'\n",
    "    res=res[:-1]\n",
    "    return res\n",
    "\n",
    "s1=\"a|b\"\n",
    "s2=\"!a|c\"\n",
    "resolve(s1,s2)"
   ]
  },
  {
   "cell_type": "markdown",
   "metadata": {},
   "source": [
    "# Part A"
   ]
  },
  {
   "cell_type": "markdown",
   "metadata": {},
   "source": [
    "## Uninformed Seacrh"
   ]
  },
  {
   "cell_type": "code",
   "execution_count": 20,
   "metadata": {},
   "outputs": [],
   "source": [
    "def uninformed_search(kb,mode):\n",
    "    step=0\n",
    "    kb=make_kb(kb)\n",
    "    print(kb)\n",
    "    # for i in range(len(kb)):\n",
    "    i=0\n",
    "    n=len(kb)\n",
    "    while i<n:\n",
    "        i+=1\n",
    "        for j in range(i+1,len(kb)):\n",
    "            res=resolve(kb[i],kb[j])\n",
    "            if res == \"Contradiction\":\n",
    "                step+=1\n",
    "                print('step:',step,'Contradiction',kb[i],kb[j])\n",
    "                return True\n",
    "            elif res != None and res not in kb:\n",
    "                res=simplify(res)\n",
    "                kb.append(res)\n",
    "                if mode:\n",
    "                    step+=1\n",
    "                    print('step:',step,'statments used to resolve:',kb[i],kb[j],'New Statement:',res)\n",
    "        n=len(kb)\n",
    "    return False"
   ]
  },
  {
   "cell_type": "markdown",
   "metadata": {},
   "source": [
    "## Greedy Algorithm"
   ]
  },
  {
   "cell_type": "code",
   "execution_count": 21,
   "metadata": {},
   "outputs": [],
   "source": [
    "def hurestic_selection(kb):\n",
    "    ret=''\n",
    "    st1=''\n",
    "    st2=''\n",
    "    min_len=100000\n",
    "    for i in range(len(kb)):\n",
    "        for j in range(i+1,len(kb)):\n",
    "            res=resolve(kb[i],kb[j])\n",
    "            res=simplify(res)\n",
    "            if res==None:\n",
    "                continue\n",
    "            elif res == \"Contradiction\":\n",
    "                return \"Contradiction\",kb[i],kb[j]\n",
    "            elif len(res) < min_len and res not in kb:\n",
    "                min_len=len(res)\n",
    "                ret=res\n",
    "                st1=kb[i]\n",
    "                st2=kb[j]\n",
    "    return ret,st1,st2"
   ]
  },
  {
   "cell_type": "code",
   "execution_count": 22,
   "metadata": {},
   "outputs": [],
   "source": [
    "def greedy_search(kb,mode):\n",
    "    kb=make_kb(kb)\n",
    "    print(kb)\n",
    "    step=0\n",
    "    while True:\n",
    "        res,st1,st2=hurestic_selection(kb)\n",
    "        if res == \"Contradiction\":\n",
    "            step+=1\n",
    "            print('Step',step,'Contradiction',st1,st2)\n",
    "            return True\n",
    "        elif res == '':\n",
    "            return False\n",
    "        elif res == None:\n",
    "            continue\n",
    "        else:\n",
    "            kb.append(res)\n",
    "            if mode:\n",
    "                step+=1\n",
    "                print('step:',step,'Statments Used:',st1,st2,'New Statement:',res)\n",
    "    return False"
   ]
  },
  {
   "cell_type": "markdown",
   "metadata": {},
   "source": [
    "## Part B"
   ]
  },
  {
   "cell_type": "markdown",
   "metadata": {},
   "source": [
    "# Testing"
   ]
  },
  {
   "cell_type": "code",
   "execution_count": 23,
   "metadata": {},
   "outputs": [],
   "source": [
    "def solver_uninformed():\n",
    "    kb=[]\n",
    "    s=str(input('Enter n and m: '))\n",
    "    n,m=map(int,s.split(\" \"))\n",
    "    for i in range(n):\n",
    "        s=input(\"Enter sentence: \")\n",
    "        kb.append(s)\n",
    "    q=input(\"Enter query: \")\n",
    "    kb.append('!'+q)\n",
    "    return uninformed_search(kb,m)\n"
   ]
  },
  {
   "cell_type": "code",
   "execution_count": 24,
   "metadata": {},
   "outputs": [],
   "source": [
    "def solver_greedy():\n",
    "    kb=[]\n",
    "    s=str(input('Enter n and m: '))\n",
    "    n,m=map(int,s.split(\" \"))\n",
    "    for i in range(n):\n",
    "        s=input(\"Enter sentence: \")\n",
    "        kb.append(s)\n",
    "    q=input(\"Enter query: \")\n",
    "    kb.append('!'+q)\n",
    "    return greedy_search(kb,m)\n"
   ]
  },
  {
   "cell_type": "code",
   "execution_count": 25,
   "metadata": {},
   "outputs": [],
   "source": [
    "def testing(kb,q,m):\n",
    "    print('KB:',kb)\n",
    "    print('Query:',q)\n",
    "    print('Mode:',m)\n",
    "    kb.append('!'+q)\n",
    "    print('Uninformed Search:')\n",
    "    print(uninformed_search(kb,m))\n",
    "    print('Greedy Search:')\n",
    "    print(greedy_search(kb,m))\n",
    "    return"
   ]
  },
  {
   "cell_type": "code",
   "execution_count": 26,
   "metadata": {},
   "outputs": [
    {
     "name": "stdout",
     "output_type": "stream",
     "text": [
      "KB: ['p|(q&(r>t))', 'p>r', 'q>t', 'q>(r=t)']\n",
      "Query: r\n",
      "Mode: 1\n",
      "Uninformed Search:\n",
      "['p|q', 'p|!r|t', '!p|r', '!q|t', '!q|!r|t', '!q|!t|r', '!r']\n",
      "step: 1 statments used to resolve: p|!r|t !p|r New Statement: t\n",
      "step: 2 statments used to resolve: p|!r|t !q|!t|r New Statement: p|!q\n",
      "step: 3 statments used to resolve: !p|r !q|!r|t New Statement: !p|!q|t\n",
      "step: 4 statments used to resolve: !p|r !r New Statement: !p\n",
      "step: 5 statments used to resolve: !p|r p|!q New Statement: r|!q\n",
      "step: 6 statments used to resolve: !q|t !q|!t|r New Statement: !q|r\n",
      "step: 7 statments used to resolve: !q|!r|t !q|!t|r New Statement: !q\n",
      "step: 8 statments used to resolve: !q|!r|t r|!q New Statement: !q|t\n",
      "step: 9 statments used to resolve: !q|!r|t !q|r New Statement: !q|t\n",
      "step: 10 statments used to resolve: !q|!t|r !r New Statement: !q|!t\n",
      "step: 11 statments used to resolve: !q|!t|r !p|!q|t New Statement: !q|r|!p\n",
      "step: 12 statments used to resolve: !q|!t|r !q|t New Statement: !q|r\n",
      "step: 13 statments used to resolve: !q|!t|r !q|t New Statement: !q|r\n",
      "step: 14 statments used to resolve: !r !q|r|!p New Statement: !q|!p\n",
      "step: 15 statments used to resolve: p|!q !p|!q|t New Statement: !q|t\n",
      "step: 16 statments used to resolve: p|!q !q|r|!p New Statement: !q|r\n",
      "step: 17 statments used to resolve: p|!q !q|!p New Statement: !q\n",
      "step: 18 statments used to resolve: !p|!q|t !q|!t New Statement: !p|!q\n",
      "step: 19 statments used to resolve: !q|t !q|!t New Statement: !q\n",
      "step: 20 statments used to resolve: !q|t !q|!t New Statement: !q\n",
      "step: 21 statments used to resolve: !q|!t !q|t New Statement: !q\n",
      "False\n",
      "Greedy Search:\n",
      "['p|q', 'p|!r|t', '!p|r', '!q|t', '!q|!r|t', '!q|!t|r', '!r']\n",
      "step: 1 Statments Used: p|!r|t !p|r New Statement: t\n",
      "step: 2 Statments Used: !p|r !r New Statement: !p\n",
      "step: 3 Statments Used: p|q !p New Statement: q\n",
      "step: 4 Statments Used: !q|!r|t !q|!t|r New Statement: !q\n",
      "Step 5 Contradiction q !q\n",
      "True\n"
     ]
    }
   ],
   "source": [
    "kb1=['p|(q&(r>t))','p>r','q>t','q>(r=t)']\n",
    "q1='r'\n",
    "m1=1\n",
    "testing(kb1,q1,m1)"
   ]
  },
  {
   "cell_type": "code",
   "execution_count": 27,
   "metadata": {},
   "outputs": [
    {
     "name": "stdout",
     "output_type": "stream",
     "text": [
      "KB: ['!a|!w|!s|!h|c', 'a', '!m|w', 'm', '!m|!o|s', 'm', 'o', '!e|h', 'e']\n",
      "Query: c\n",
      "Mode: 1\n",
      "Uninformed Search:\n",
      "['!a|!w|!s|!h|c', 'a', '!m|w', 'm', '!m|!o|s', 'm', 'o', '!e|h', 'e', '!c']\n",
      "step: 1 statments used to resolve: !m|w m New Statement: w\n",
      "step: 2 statments used to resolve: m !m|!o|s New Statement: !o|s\n",
      "step: 3 statments used to resolve: !m|!o|s o New Statement: !m|s\n",
      "step: 4 statments used to resolve: m !m|s New Statement: s\n",
      "step: 5 statments used to resolve: !e|h e New Statement: h\n",
      "False\n",
      "Greedy Search:\n",
      "['!a|!w|!s|!h|c', 'a', '!m|w', 'm', '!m|!o|s', 'm', 'o', '!e|h', 'e', '!c']\n",
      "step: 1 Statments Used: !m|w m New Statement: w\n",
      "step: 2 Statments Used: !e|h e New Statement: h\n",
      "step: 3 Statments Used: m !m|!o|s New Statement: !o|s\n",
      "step: 4 Statments Used: o !o|s New Statement: s\n",
      "step: 5 Statments Used: !m|!o|s o New Statement: !m|s\n",
      "step: 6 Statments Used: !a|!w|!s|!h|c a New Statement: !w|!s|!h|c\n",
      "step: 7 Statments Used: w !w|!s|!h|c New Statement: !s|!h|c\n",
      "step: 8 Statments Used: h !s|!h|c New Statement: !s|c\n",
      "step: 9 Statments Used: s !s|c New Statement: c\n",
      "Step 10 Contradiction !c c\n",
      "True\n"
     ]
    }
   ],
   "source": [
    "kb2=['!a|!w|!s|!h|c','a','!m|w','m','!m|!o|s','m','o','!e|h','e']\n",
    "q2='c'\n",
    "m2=1\n",
    "testing(kb2,q2,m2)"
   ]
  },
  {
   "cell_type": "code",
   "execution_count": null,
   "metadata": {},
   "outputs": [],
   "source": [
    "# solver_uninformed()\n",
    "# solver_greedy()"
   ]
  }
 ],
 "metadata": {
  "kernelspec": {
   "display_name": "Python 3",
   "language": "python",
   "name": "python3"
  },
  "language_info": {
   "codemirror_mode": {
    "name": "ipython",
    "version": 3
   },
   "file_extension": ".py",
   "mimetype": "text/x-python",
   "name": "python",
   "nbconvert_exporter": "python",
   "pygments_lexer": "ipython3",
   "version": "3.11.4"
  }
 },
 "nbformat": 4,
 "nbformat_minor": 2
}
